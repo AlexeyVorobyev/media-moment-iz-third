{
 "cells": [
  {
   "cell_type": "code",
   "execution_count": 1,
   "metadata": {},
   "outputs": [],
   "source": [
    "from ultralytics import YOLO\n",
    "import os"
   ]
  },
  {
   "cell_type": "code",
   "execution_count": 2,
   "metadata": {},
   "outputs": [],
   "source": [
    "# Load a model\n",
    "model = YOLO(\"../models/bbox_cut/atpt_4_best.pt\")"
   ]
  },
  {
   "cell_type": "code",
   "execution_count": 3,
   "metadata": {},
   "outputs": [
    {
     "name": "stdout",
     "output_type": "stream",
     "text": [
      "['../datasets/Train Numbers.v3-resize-with-black.yolov8-obb/test/images/50309251_jpg.rf.1cedbc4656e829d5aac8eee30e353693.jpg', '../datasets/Train Numbers.v3-resize-with-black.yolov8-obb/test/images/50744549_jpg.rf.88c8c191b632b47c4ff1fdaf22f4542e.jpg', '../datasets/Train Numbers.v3-resize-with-black.yolov8-obb/test/images/51174209_jpg.rf.01e0f1fcade81c8baff00b4cc72c44b4.jpg', '../datasets/Train Numbers.v3-resize-with-black.yolov8-obb/test/images/51174951_jpg.rf.d95393a591f75874fec03805f13d0df6.jpg', '../datasets/Train Numbers.v3-resize-with-black.yolov8-obb/test/images/51176477_jpg.rf.8c0cc4bf1e797ce81e61859871a4bd80.jpg', '../datasets/Train Numbers.v3-resize-with-black.yolov8-obb/test/images/51225407_jpg.rf.bf7bc81d39a57a88a0bf7294b57bd6b8.jpg', '../datasets/Train Numbers.v3-resize-with-black.yolov8-obb/test/images/51472579_jpg.rf.509bfd5b664e4d375946d24fd330123f.jpg', '../datasets/Train Numbers.v3-resize-with-black.yolov8-obb/test/images/52010378_jpg.rf.e862d3ce186cebf16137f85d4f5103d2.jpg', '../datasets/Train Numbers.v3-resize-with-black.yolov8-obb/test/images/52088507_jpg.rf.3a580cc0ce773db12324940ea499bb7d.jpg', '../datasets/Train Numbers.v3-resize-with-black.yolov8-obb/test/images/52132834_jpg.rf.8ea3fe2d204e86cf0c9fa7512e736341.jpg', '../datasets/Train Numbers.v3-resize-with-black.yolov8-obb/test/images/52276631_jpg.rf.90fb33c7480948798bfc72a460fef129.jpg', '../datasets/Train Numbers.v3-resize-with-black.yolov8-obb/test/images/52720257_jpg.rf.ce6c642d01e6c212635e738b73ece80a.jpg', '../datasets/Train Numbers.v3-resize-with-black.yolov8-obb/test/images/52959822_jpg.rf.77577d120c7b30d6edbe7cc231a0af16.jpg', '../datasets/Train Numbers.v3-resize-with-black.yolov8-obb/test/images/53143467_jpg.rf.c8deb7edee41dc0a74e7cdc52e7204d8.jpg', '../datasets/Train Numbers.v3-resize-with-black.yolov8-obb/test/images/53183851_jpg.rf.1d7df689f26d19ec9c9140eee7e1194f.jpg', '../datasets/Train Numbers.v3-resize-with-black.yolov8-obb/test/images/53212484_jpg.rf.1202364f971f185596af12e23d5206c8.jpg', '../datasets/Train Numbers.v3-resize-with-black.yolov8-obb/test/images/53386785_jpg.rf.45a5e9e49c86873b3e7f56d812cddcb0.jpg', '../datasets/Train Numbers.v3-resize-with-black.yolov8-obb/test/images/53870622_jpg.rf.5dedb636f12a7ca61bcc50d9c49f2bef.jpg', '../datasets/Train Numbers.v3-resize-with-black.yolov8-obb/test/images/53876652_jpg.rf.2c16033be394aa68dd387b20d577e1cf.jpg', '../datasets/Train Numbers.v3-resize-with-black.yolov8-obb/test/images/54663471_jpg.rf.6696e61462216b1ba147f98d655bf8b1.jpg', '../datasets/Train Numbers.v3-resize-with-black.yolov8-obb/test/images/54761655_jpg.rf.be49e75523a09f842eddd310386eb38c.jpg', '../datasets/Train Numbers.v3-resize-with-black.yolov8-obb/test/images/54906730_jpg.rf.7326ed9c9cb3b1395005bae790479d59.jpg', '../datasets/Train Numbers.v3-resize-with-black.yolov8-obb/test/images/55645659_jpg.rf.29e26da7d335d609abf7f22867314ef9.jpg', '../datasets/Train Numbers.v3-resize-with-black.yolov8-obb/test/images/55741110_jpg.rf.59107daf901d09ff936afa72ab18bf92.jpg', '../datasets/Train Numbers.v3-resize-with-black.yolov8-obb/test/images/55803324_jpg.rf.4dfc6ce0d4f0b18956a66b8e1212df5a.jpg', '../datasets/Train Numbers.v3-resize-with-black.yolov8-obb/test/images/55987499_jpg.rf.688324e29d0ccba139b6fe17501d010d.jpg', '../datasets/Train Numbers.v3-resize-with-black.yolov8-obb/test/images/57022246_jpg.rf.eac871afe5be6a9c188abe12af82cc7c.jpg', '../datasets/Train Numbers.v3-resize-with-black.yolov8-obb/test/images/57444713_jpg.rf.7aa05d50ff4abb22d1e2f1b4e4a6d8c4.jpg', '../datasets/Train Numbers.v3-resize-with-black.yolov8-obb/test/images/57608895_jpg.rf.ece136be8d18804375a3710280486cec.jpg', '../datasets/Train Numbers.v3-resize-with-black.yolov8-obb/test/images/59604223_jpg.rf.3ebfbd1ff776609554d2256b385d3f1e.jpg', '../datasets/Train Numbers.v3-resize-with-black.yolov8-obb/test/images/60434933_jpg.rf.3be96d76bb42142a0e900e277c3dac79.jpg', '../datasets/Train Numbers.v3-resize-with-black.yolov8-obb/test/images/60943180_jpg.rf.5b2e1668d8e160620f0dda6d94742707.jpg', '../datasets/Train Numbers.v3-resize-with-black.yolov8-obb/test/images/61120101_jpg.rf.08020d61b63cdaf9c14fedf1c3cb4670.jpg', '../datasets/Train Numbers.v3-resize-with-black.yolov8-obb/test/images/61218657_jpg.rf.b2300e5eb2a5b0f378cafd0b528963c4.jpg', '../datasets/Train Numbers.v3-resize-with-black.yolov8-obb/test/images/61301321_jpg.rf.acba1b3388669c64b694649649664982.jpg', '../datasets/Train Numbers.v3-resize-with-black.yolov8-obb/test/images/61508016_jpg.rf.623b9566984be8ecdd6e980e242129ef.jpg', '../datasets/Train Numbers.v3-resize-with-black.yolov8-obb/test/images/61644522_jpg.rf.a603eacf641aed993f2b1683a0f92e2a.jpg', '../datasets/Train Numbers.v3-resize-with-black.yolov8-obb/test/images/61668737_jpg.rf.869e5735a2c0447e660488f943c7af2e.jpg', '../datasets/Train Numbers.v3-resize-with-black.yolov8-obb/test/images/62086566_jpg.rf.aa867a11786b454e88bcf36994aa880e.jpg', '../datasets/Train Numbers.v3-resize-with-black.yolov8-obb/test/images/62868070_jpg.rf.59ad58469fdc6d7e2dd14cf9dbd8480b.jpg', '../datasets/Train Numbers.v3-resize-with-black.yolov8-obb/test/images/63003776_jpg.rf.47189c24babe63180a633d823a1405f3.jpg', '../datasets/Train Numbers.v3-resize-with-black.yolov8-obb/test/images/63518765_jpg.rf.a6423255fb42f01cf9445d12e75bfff3.jpg', '../datasets/Train Numbers.v3-resize-with-black.yolov8-obb/test/images/64015142_jpg.rf.ae9da4548e552b781b2ea6a6409f97e6.jpg', '../datasets/Train Numbers.v3-resize-with-black.yolov8-obb/test/images/65380750_jpg.rf.7690ff297d8e3b06e3b28848756a6105.jpg', '../datasets/Train Numbers.v3-resize-with-black.yolov8-obb/test/images/65473381_jpg.rf.6a5548caee9a041c1bb7c5d739dd423f.jpg', '../datasets/Train Numbers.v3-resize-with-black.yolov8-obb/test/images/68080947_jpg.rf.868cb080e34491a51e13f262949f0551.jpg', '../datasets/Train Numbers.v3-resize-with-black.yolov8-obb/test/images/68091370_jpg.rf.c28f85d1211d709bddb9b2e818d5ccf7.jpg', '../datasets/Train Numbers.v3-resize-with-black.yolov8-obb/test/images/70711429_jpg.rf.d82757ab3c010eb8b59b342e9e0db4d1.jpg', '../datasets/Train Numbers.v3-resize-with-black.yolov8-obb/test/images/70711551_jpg.rf.e4f9d3cbdb6282a0b1de4bb5aaa8f6ac.jpg', '../datasets/Train Numbers.v3-resize-with-black.yolov8-obb/test/images/76806835_jpg.rf.b419a509bfd10a79e906f848da421f5a.jpg', '../datasets/Train Numbers.v3-resize-with-black.yolov8-obb/test/images/76807288_jpg.rf.197537ecb5ff2a13658fcd11a20a94fd.jpg', '../datasets/Train Numbers.v3-resize-with-black.yolov8-obb/test/images/94290822_jpg.rf.6165c61a5d0230a88a1f6922b2fba450.jpg', '../datasets/Train Numbers.v3-resize-with-black.yolov8-obb/test/images/95273926_jpg.rf.05d9751f85e2aa244353ae28eb6aa709.jpg', '../datasets/Train Numbers.v3-resize-with-black.yolov8-obb/test/images/95911681_jpg.rf.ad71be07fdea02c2ea23ad1d36a4768b.jpg', '../datasets/Train Numbers.v3-resize-with-black.yolov8-obb/test/images/96734934_jpg.rf.47f48f9b1ae891db8a866600f8b143dd.jpg']\n"
     ]
    }
   ],
   "source": [
    "# Prepare test images\n",
    "test_dir = \"../datasets/Train Numbers.v3-resize-with-black.yolov8-obb/test/images\"\n",
    "images = [f'{test_dir}/{img}' for img in os.listdir(test_dir) if os.path.isfile(f'{test_dir}/{img}')]\n",
    "print(images)"
   ]
  },
  {
   "cell_type": "code",
   "execution_count": 5,
   "metadata": {},
   "outputs": [
    {
     "name": "stdout",
     "output_type": "stream",
     "text": [
      "Ultralytics 8.3.49  Python-3.12.5 torch-2.5.1+cu124 CUDA:0 (NVIDIA GeForce RTX 4070 SUPER, 12282MiB)\n"
     ]
    },
    {
     "name": "stderr",
     "output_type": "stream",
     "text": [
      "\u001b[34m\u001b[1mval: \u001b[0mScanning C:\\Users\\ARTEZON\\Desktop\\Универ\\Алгоритмы цифровой обработки мультимедиа\\ИЗ 3\\Train-Numbers-OCR\\datasets\\Train Numbers.v3-resize-with-black.yolov8-obb\\test\\labels... 55 images, 0 backgrounds, 0 corrupt: 100%|██████████| 55/55 [00:00<00:00, 763.89it/s]"
     ]
    },
    {
     "name": "stdout",
     "output_type": "stream",
     "text": [
      "\u001b[34m\u001b[1mval: \u001b[0mNew cache created: C:\\Users\\ARTEZON\\Desktop\\\\   \\ 3\\Train-Numbers-OCR\\datasets\\Train Numbers.v3-resize-with-black.yolov8-obb\\test\\labels.cache\n"
     ]
    },
    {
     "name": "stderr",
     "output_type": "stream",
     "text": [
      "\n",
      "                 Class     Images  Instances      Box(P          R      mAP50  mAP50-95): 100%|██████████| 28/28 [00:03<00:00,  8.45it/s]\n"
     ]
    },
    {
     "name": "stdout",
     "output_type": "stream",
     "text": [
      "                   all         55         55      0.998      0.945      0.987      0.826\n",
      "Speed: 0.2ms preprocess, 11.6ms inference, 0.0ms loss, 3.1ms postprocess per image\n",
      "Results saved to \u001b[1mruns\\obb\\val2\u001b[0m\n"
     ]
    },
    {
     "data": {
      "text/plain": [
       "array([    0.82585])"
      ]
     },
     "execution_count": 5,
     "metadata": {},
     "output_type": "execute_result"
    }
   ],
   "source": [
    "metrics = model.val(data=os.path.abspath(\"../datasets/Train Numbers.v3-resize-with-black.yolov8-obb/test.yaml\"), batch=2)\n",
    "metrics.box.map  # map50-95\n",
    "metrics.box.map50  # map50\n",
    "metrics.box.map75  # map75\n",
    "metrics.box.maps  # a list contains map50-95 of each category"
   ]
  },
  {
   "cell_type": "code",
   "execution_count": 7,
   "metadata": {},
   "outputs": [
    {
     "name": "stdout",
     "output_type": "stream",
     "text": [
      "\n",
      "0: 640x640 11.5ms\n",
      "1: 640x640 11.5ms\n",
      "2: 640x640 11.5ms\n",
      "3: 640x640 11.5ms\n",
      "4: 640x640 11.5ms\n",
      "5: 640x640 11.5ms\n",
      "6: 640x640 11.5ms\n",
      "7: 640x640 11.5ms\n",
      "8: 640x640 11.5ms\n",
      "9: 640x640 11.5ms\n",
      "10: 640x640 11.5ms\n",
      "11: 640x640 11.5ms\n",
      "12: 640x640 11.5ms\n",
      "13: 640x640 11.5ms\n",
      "14: 640x640 11.5ms\n",
      "15: 640x640 11.5ms\n",
      "16: 640x640 (no detections), 11.5ms\n",
      "17: 640x640 11.5ms\n",
      "18: 640x640 11.5ms\n",
      "19: 640x640 11.5ms\n",
      "20: 640x640 11.5ms\n",
      "21: 640x640 11.5ms\n",
      "22: 640x640 11.5ms\n",
      "23: 640x640 11.5ms\n",
      "24: 640x640 11.5ms\n",
      "25: 640x640 11.5ms\n",
      "26: 640x640 11.5ms\n",
      "27: 640x640 11.5ms\n",
      "28: 640x640 11.5ms\n",
      "29: 640x640 11.5ms\n",
      "30: 640x640 11.5ms\n",
      "31: 640x640 11.5ms\n",
      "32: 640x640 11.5ms\n",
      "33: 640x640 11.5ms\n",
      "34: 640x640 11.5ms\n",
      "35: 640x640 11.5ms\n",
      "36: 640x640 11.5ms\n",
      "37: 640x640 11.5ms\n",
      "38: 640x640 11.5ms\n",
      "39: 640x640 11.5ms\n",
      "40: 640x640 11.5ms\n",
      "41: 640x640 11.5ms\n",
      "42: 640x640 11.5ms\n",
      "43: 640x640 11.5ms\n",
      "44: 640x640 11.5ms\n",
      "45: 640x640 11.5ms\n",
      "46: 640x640 11.5ms\n",
      "47: 640x640 11.5ms\n",
      "48: 640x640 11.5ms\n",
      "49: 640x640 11.5ms\n",
      "50: 640x640 11.5ms\n",
      "51: 640x640 (no detections), 11.5ms\n",
      "52: 640x640 11.5ms\n",
      "53: 640x640 (no detections), 11.5ms\n",
      "54: 640x640 11.5ms\n",
      "Speed: 3.0ms preprocess, 11.5ms inference, 1.8ms postprocess per image at shape (2, 3, 640, 640)\n"
     ]
    }
   ],
   "source": [
    "# Run batched inference on a list of images\n",
    "results = model(images, batch=2)  # return a list of Results objects\n",
    "\n",
    "# Process results list\n",
    "for result in results:\n",
    "    boxes = result.boxes  # Boxes object for bounding box outputs\n",
    "    masks = result.masks  # Masks object for segmentation masks outputs\n",
    "    probs = result.probs  # Probs object for classification outputs\n",
    "    obb = result.obb  # Oriented boxes object for OBB outputs\n",
    "    result.save(filename=f\"atpt_4_results/{result.path.rsplit('/', 1)[1]}\")  # save to disk"
   ]
  }
 ],
 "metadata": {
  "kernelspec": {
   "display_name": "Python 3",
   "language": "python",
   "name": "python3"
  },
  "language_info": {
   "codemirror_mode": {
    "name": "ipython",
    "version": 3
   },
   "file_extension": ".py",
   "mimetype": "text/x-python",
   "name": "python",
   "nbconvert_exporter": "python",
   "pygments_lexer": "ipython3",
   "version": "3.12.5"
  }
 },
 "nbformat": 4,
 "nbformat_minor": 2
}
